{
 "cells": [
  {
   "cell_type": "markdown",
   "metadata": {},
   "source": [
    "# Studying the paper <br>\"Introduction to Coding Quantum Algorithms: <br>A Tutorial Series Using Qiskit\"\n",
    "\n",
    "### Find the paper here https://arxiv.org/abs/1903.04359\n"
   ]
  },
  {
   "cell_type": "markdown",
   "metadata": {},
   "source": [
    "# Lesson 1 "
   ]
  },
  {
   "cell_type": "code",
   "execution_count": 127,
   "metadata": {},
   "outputs": [],
   "source": [
    "from qiskit import QuantumCircuit, QuantumRegister, Aer, execute, ClassicalRegister\n",
    "import numpy as np\n",
    "import math as m\n",
    "S_simulator = Aer.backends(name=\"statevector_simulator\")[0]\n",
    "M_simulator = Aer.backends(name=\"qasm_simulator\")[0]"
   ]
  },
  {
   "cell_type": "code",
   "execution_count": 128,
   "metadata": {},
   "outputs": [
    {
     "name": "stdout",
     "output_type": "stream",
     "text": [
      "[0.70710678+0.j 0.70710678+0.j]\n",
      "[0.5+0.j 0.5+0.j]\n"
     ]
    }
   ],
   "source": [
    "# one qubit Hadamard \n",
    "q = QuantumRegister(1)\n",
    "one_q = QuantumCircuit(q)\n",
    "\n",
    "one_q.h(q[0])\n",
    "\n",
    "job = execute(one_q, S_simulator) \n",
    "result = job.result()\n",
    "print(result.get_statevector())\n",
    "\n",
    "# Remember these values are amplitudes that are square roots of probability\n",
    "print(result.get_statevector() ** 2)"
   ]
  },
  {
   "cell_type": "code",
   "execution_count": 129,
   "metadata": {},
   "outputs": [
    {
     "data": {
      "text/plain": [
       "{'1': 508, '0': 516}"
      ]
     },
     "execution_count": 129,
     "metadata": {},
     "output_type": "execute_result"
    }
   ],
   "source": [
    "# 1 qubit count example\n",
    "q = QuantumRegister(1)\n",
    "c = ClassicalRegister(1)\n",
    "qc = QuantumCircuit(q,c)\n",
    "qc.h(q[0])\n",
    "qc.measure(q,c)\n",
    "\n",
    "job = execute(qc, M_simulator)\n",
    "result = job.result()\n",
    "result.get_counts(qc)"
   ]
  },
  {
   "cell_type": "code",
   "execution_count": 130,
   "metadata": {},
   "outputs": [
    {
     "name": "stdout",
     "output_type": "stream",
     "text": [
      "{'01': 268, '11': 250, '10': 257, '00': 249}\n"
     ]
    },
    {
     "data": {
      "image/png": "[encoded data removed]",
      "text/plain": [
       "<Figure size 380.464x204.68 with 1 Axes>"
      ]
     },
     "execution_count": 130,
     "metadata": {},
     "output_type": "execute_result"
    }
   ],
   "source": [
    "# 2 qubit count example\n",
    "q = QuantumRegister(2)\n",
    "c = ClassicalRegister(2)\n",
    "qc = QuantumCircuit(q,c)\n",
    "qc.h(q[0])\n",
    "qc.h(q[1])\n",
    "qc.measure(q,c)\n",
    "\n",
    "job = execute(qc, M_simulator)\n",
    "result = job.result()\n",
    "print(result.get_counts(qc))\n",
    "qc.draw(\"mpl\")"
   ]
  },
  {
   "cell_type": "code",
   "execution_count": 131,
   "metadata": {},
   "outputs": [
    {
     "name": "stdout",
     "output_type": "stream",
     "text": [
      "{'01': 527, '00': 497}\n"
     ]
    },
    {
     "data": {
      "image/png": "[encoded data removed]",
      "text/plain": [
       "<Figure size 320.264x204.68 with 1 Axes>"
      ]
     },
     "execution_count": 131,
     "metadata": {},
     "output_type": "execute_result"
    }
   ],
   "source": [
    "# Partial measurement example \n",
    "q = QuantumRegister(2)\n",
    "c = ClassicalRegister(2)\n",
    "qc = QuantumCircuit(q,c)\n",
    "qc.h(q[0])\n",
    "qc.h(q[1])\n",
    "\n",
    "# partial measurement \n",
    "qc.measure(q[0],c[0])\n",
    "\n",
    "job = execute(qc, M_simulator)\n",
    "result = job.result()\n",
    "print(result.get_counts(qc))\n",
    "qc.draw(\"mpl\")"
   ]
  },
  {
   "cell_type": "markdown",
   "metadata": {},
   "source": [
    "#### An interesting point from the two examples above is that when measuring both qubits, there is a uniform distribution between 4 states whereas a partial measurement is a uni. dist. across 2 states. "
   ]
  },
  {
   "cell_type": "code",
   "execution_count": 132,
   "metadata": {},
   "outputs": [
    {
     "name": "stdout",
     "output_type": "stream",
     "text": [
      "{'010': 515, '000': 509}\n"
     ]
    },
    {
     "data": {
      "image/png": "[encoded data removed]",
      "text/plain": [
       "<Figure size 440.664x264.88 with 1 Axes>"
      ]
     },
     "execution_count": 132,
     "metadata": {},
     "output_type": "execute_result"
    }
   ],
   "source": [
    "# 3 qubit count example\n",
    "q = QuantumRegister(3)\n",
    "c = ClassicalRegister(3)\n",
    "qc = QuantumCircuit(q,c)\n",
    "qc.h(q[0])\n",
    "qc.iden(q[1])\n",
    "qc.iden(q[2])\n",
    "qc.measure(q[0],c[1])\n",
    "qc.measure(q[1],c[0])\n",
    "qc.measure(q[2],c[2])\n",
    "\n",
    "job = execute(qc, M_simulator)\n",
    "result = job.result()\n",
    "print(result.get_counts(qc))\n",
    "qc.draw(\"mpl\")"
   ]
  },
  {
   "cell_type": "markdown",
   "metadata": {},
   "source": [
    "#### Example above shows that you can measure the state of a qubit into a classical bit of another index. See above that q0 -> c1 so the result states are measuring accross the middle bit (i.e., 000 & 010). "
   ]
  },
  {
   "cell_type": "markdown",
   "metadata": {},
   "source": [
    "## Quantum Coin Flip Problem\n",
    "”Alice and Bob have recently gotten into an argument about the philosophy of picking the correct side of a coin flip.   Bobwas raised by the moto ”Tails Never Fails”, while Alice was taught ”Tail Always Fails”.  Alice suggests that they solve theirdisagreement with a series of coin flips, but Bob doesn’t trust any coin that Alice owns, and vice versa for Alice.  Thus, they agree to use a qubit as their coin. The loser of the bet must clean the other person’s lab equipment for a month!”"
   ]
  },
  {
   "cell_type": "code",
   "execution_count": 133,
   "metadata": {},
   "outputs": [
    {
     "data": {
      "text/plain": [
       "(462, 538)"
      ]
     },
     "execution_count": 133,
     "metadata": {},
     "output_type": "execute_result"
    }
   ],
   "source": [
    "def quantum_coin_flip(num_flips) -> tuple:\n",
    "    q = QuantumRegister(1)\n",
    "    c = ClassicalRegister(1)\n",
    "    qc = QuantumCircuit(q,c)\n",
    "    qc.h(q[0])\n",
    "    qc.measure(q,c)\n",
    "    M = execute(qc, M_simulator, shots=num_flips)\\\n",
    "        .result()\\\n",
    "        .get_counts(qc)\n",
    "    \n",
    "    return M[\"0\"], M[\"1\"] # heads, tails\n",
    "quantum_coin_flip(1000)"
   ]
  },
  {
   "cell_type": "markdown",
   "metadata": {},
   "source": [
    "# Lesson 2 - Creating More Complex Quantum Circuits"
   ]
  },
  {
   "cell_type": "code",
   "execution_count": 134,
   "metadata": {},
   "outputs": [
    {
     "name": "stdout",
     "output_type": "stream",
     "text": [
      "__qc.qasm()__\n",
      "qreg q[2];\n",
      "creg c[3];\n",
      "h q[0];\n",
      "h q[1];\n",
      "measure q[0] -> c[0];\n",
      "\n",
      "__qc.data__\n",
      "(<qiskit.extensions.standard.h.HGate object at 0x1a2297c128>, [Qubit(QuantumRegister(2, 'q'), 0)], [])\n",
      "(<qiskit.extensions.standard.h.HGate object at 0x1a2297c588>, [Qubit(QuantumRegister(2, 'q'), 1)], [])\n",
      "(<qiskit.circuit.measure.Measure object at 0x1a228964a8>, [Qubit(QuantumRegister(2, 'q'), 0)], [Clbit(ClassicalRegister(3, 'c'), 0)])\n",
      "\n",
      "__qc.qregs__\n",
      "[QuantumRegister(2, 'q')]\n",
      "\n",
      "__qc.cregs__\n",
      "[ClassicalRegister(3, 'c')]\n"
     ]
    }
   ],
   "source": [
    "## Some useful info for debugging \n",
    "\n",
    "# setup \n",
    "q = QuantumRegister(2, name=\"q\")\n",
    "c = ClassicalRegister(3, name=\"c\")\n",
    "qc = QuantumCircuit(q,c, name=\"qc\")\n",
    "qc.h(q[0])\n",
    "qc.h(q[1])\n",
    "qc.measure(q[0], c[0])\n",
    "\n",
    "# under the hood\n",
    "print(\"__qc.qasm()__\")\n",
    "print(qc.qasm()[36:])\n",
    "\n",
    "print(\"__qc.data__\")\n",
    "print(\"\\n\".join([str(i) for i in qc.data]))\n",
    "\n",
    "print(\"\\n__qc.qregs__\")\n",
    "print(qc.qregs)\n",
    "\n",
    "print(\"\\n__qc.cregs__\")\n",
    "print(qc.cregs)"
   ]
  },
  {
   "cell_type": "code",
   "execution_count": 135,
   "metadata": {},
   "outputs": [
    {
     "name": "stdout",
     "output_type": "stream",
     "text": [
      "        ┌───┐┌─┐\n",
      "q_0: |0>┤ H ├┤M├\n",
      "        └───┘└╥┘\n",
      " c_0: 0 ══════╬═\n",
      "              ║ \n",
      "c2_0: 0 ══════╩═\n",
      "                \n",
      "         ┌───┐\n",
      "q2_0: |0>┤ H ├\n",
      "         ├───┤\n",
      " q_0: |0>┤ H ├\n",
      "         └───┘\n",
      " c2_0: 0 ═════\n",
      "              \n"
     ]
    }
   ],
   "source": [
    "# Making two qcircuits interact (manually)\n",
    "q = QuantumRegister(1, name=\"q\")\n",
    "c = ClassicalRegister(1, name=\"c\")\n",
    "qc = QuantumCircuit(q,c, name=\"qc\")\n",
    "\n",
    "q2 = QuantumRegister(1, name=\"q2\")\n",
    "c2 = ClassicalRegister(1, name=\"c2\")\n",
    "qc2 = QuantumCircuit(q2,c2, name=\"qc2\")\n",
    "\n",
    "# manual add regs\n",
    "qc.add_register(c2)\n",
    "qc2.add_register(q)\n",
    "\n",
    "qc.h(q[0])\n",
    "qc2.h(q2[0])\n",
    "qc.measure(q[0],c2[0])\n",
    "qc2.h(q[0])\n",
    "\n",
    "print(qc.draw())\n",
    "print(qc2.draw())"
   ]
  },
  {
   "cell_type": "markdown",
   "metadata": {},
   "source": [
    "#### good point: \n",
    "One way to think about the relationship between registers and circuits, is thatQuantumCircuitsneed permission to use registers.Our quantum and classical registers are the physical quantities where our qubits and classical bits live.  Thus, we should avoidthinking of our algorithms as ”QuantumCircuit1’s registers”, but more like ”QuantumCircuit1 has access toregisters”."
   ]
  },
  {
   "cell_type": "code",
   "execution_count": 136,
   "metadata": {},
   "outputs": [
    {
     "name": "stdout",
     "output_type": "stream",
     "text": [
      "____ q3 = q1 + q2 ____\n",
      "qreg q1[2];\n",
      "qreg q2[2];\n",
      "creg c1[3];\n",
      "creg c2[3];\n",
      "h q1[0];\n",
      "id q1[1];\n",
      "id q2[0];\n",
      "h q2[1];\n",
      "\n",
      "____ q1 += q2 ____\n",
      "qreg q1[2];\n",
      "qreg q2[2];\n",
      "creg c1[3];\n",
      "creg c2[3];\n",
      "h q1[0];\n",
      "id q1[1];\n",
      "id q2[0];\n",
      "h q2[1];\n",
      "\n"
     ]
    }
   ],
   "source": [
    "# Combine two QuantumCircuits the right way\n",
    "q1 = QuantumRegister(2, name=\"q1\")\n",
    "c1 = ClassicalRegister(3, name=\"c1\")\n",
    "qc1 = QuantumCircuit(q1,c1, name=\"qc1\")\n",
    "\n",
    "q2 = QuantumRegister(2, name=\"q2\")\n",
    "c2 = ClassicalRegister(3, name=\"c2\")\n",
    "qc2 = QuantumCircuit(q2,c2, name=\"qc2\")\n",
    "\n",
    "qc1.h(q1[0])\n",
    "qc1.iden(q1[1])\n",
    "qc2.iden(q2[0])\n",
    "qc2.h(q2[1])\n",
    "\n",
    "# new qc\n",
    "qc3 = qc1 + qc2 \n",
    "print(\"____ q3 = q1 + q2 ____\")\n",
    "print(qc3.qasm()[36:])\n",
    "\n",
    "# append qc\n",
    "qc1 += qc2\n",
    "print(\"____ q1 += q2 ____\")\n",
    "print(qc1.qasm()[36:])"
   ]
  },
  {
   "cell_type": "code",
   "execution_count": 137,
   "metadata": {},
   "outputs": [
    {
     "data": {
      "text/html": [
       "<pre style=\"word-wrap: normal;white-space: pre;background: #fff0;line-height: 1.1;font-family: &quot;Courier New&quot;,Courier,monospace\">        ┌───┐ ┌─┐   \n",
       "q_0: |0>┤ H ├─┤M├───\n",
       "        ├───┴┐└╥┘┌─┐\n",
       "q_1: |0>┤ Id ├─╫─┤M├\n",
       "        └────┘ ║ └╥┘\n",
       " c_0: 0 ═══════╩══╬═\n",
       "                  ║ \n",
       " c_1: 0 ══════════╩═\n",
       "                    </pre>"
      ],
      "text/plain": [
       "        ┌───┐ ┌─┐   \n",
       "q_0: |0>┤ H ├─┤M├───\n",
       "        ├───┴┐└╥┘┌─┐\n",
       "q_1: |0>┤ Id ├─╫─┤M├\n",
       "        └────┘ ║ └╥┘\n",
       " c_0: 0 ═══════╩══╬═\n",
       "                  ║ \n",
       " c_1: 0 ══════════╩═\n",
       "                    "
      ]
     },
     "execution_count": 137,
     "metadata": {},
     "output_type": "execute_result"
    }
   ],
   "source": [
    "# Some Visualizations \n",
    "q = QuantumRegister(2, name=\"q\")\n",
    "c = ClassicalRegister(2, name=\"c\")\n",
    "qc = QuantumCircuit(q,c, name=\"qc\")\n",
    "qc.h(q[0])\n",
    "qc.iden(q[1])\n",
    "qc.measure(q,c)\n",
    "qc.draw()"
   ]
  },
  {
   "cell_type": "markdown",
   "metadata": {},
   "source": [
    "# Lesson 3 - Gates Provided by Qiskit\n"
   ]
  },
  {
   "cell_type": "code",
   "execution_count": 138,
   "metadata": {},
   "outputs": [],
   "source": [
    "from qiskit.tools.visualization import circuit_drawer\n",
    "import Our_Qiskit_Functions as oq"
   ]
  },
  {
   "cell_type": "code",
   "execution_count": 141,
   "metadata": {},
   "outputs": [
    {
     "name": "stdout",
     "output_type": "stream",
     "text": [
      "__ Initial __\n",
      "1.0  |0>   \n",
      "__ After H __\n",
      "0.70711  |0>   0.70711  |1>   \n"
     ]
    },
    {
     "data": {
      "text/html": [
       "<pre style=\"word-wrap: normal;white-space: pre;background: #fff0;line-height: 1.1;font-family: &quot;Courier New&quot;,Courier,monospace\">        ┌────┐┌───┐\n",
       "q_0: |0>┤ Id ├┤ H ├\n",
       "        └────┘└───┘</pre>"
      ],
      "text/plain": [
       "        ┌────┐┌───┐\n",
       "q_0: |0>┤ Id ├┤ H ├\n",
       "        └────┘└───┘"
      ]
     },
     "execution_count": 141,
     "metadata": {},
     "output_type": "execute_result"
    }
   ],
   "source": [
    "# vis H\n",
    "q = QuantumRegister(1, name=\"q\")\n",
    "qc = QuantumCircuit(q, name=\"qc\")\n",
    "qc.iden(q[0])\n",
    "print(\"__ Initial __\")\n",
    "print(oq.Wavefunction(qc))\n",
    "print(\"__ After H __\")\n",
    "qc.h(q[0])\n",
    "print(oq.Wavefunction(qc))\n",
    "\n",
    "circuit_drawer(qc)"
   ]
  },
  {
   "cell_type": "markdown",
   "metadata": {},
   "source": [
    "### Pauli Operators"
   ]
  },
  {
   "cell_type": "code",
   "execution_count": 142,
   "metadata": {},
   "outputs": [
    {
     "name": "stdout",
     "output_type": "stream",
     "text": [
      "__ Initial __\n",
      "1.0  |0>   \n",
      "__ After X __\n",
      "1.0  |1>   \n"
     ]
    },
    {
     "data": {
      "text/html": [
       "<pre style=\"word-wrap: normal;white-space: pre;background: #fff0;line-height: 1.1;font-family: &quot;Courier New&quot;,Courier,monospace\">        ┌────┐┌───┐\n",
       "q_0: |0>┤ Id ├┤ X ├\n",
       "        └────┘└───┘</pre>"
      ],
      "text/plain": [
       "        ┌────┐┌───┐\n",
       "q_0: |0>┤ Id ├┤ X ├\n",
       "        └────┘└───┘"
      ]
     },
     "execution_count": 142,
     "metadata": {},
     "output_type": "execute_result"
    }
   ],
   "source": [
    "# vis X (Pauli Operator)\n",
    "q = QuantumRegister(1, name=\"q\")\n",
    "qc = QuantumCircuit(q, name=\"qc\")\n",
    "qc.iden(q[0])\n",
    "print(\"__ Initial __\")\n",
    "print(oq.Wavefunction(qc))\n",
    "print(\"__ After X __\")\n",
    "qc.x(q[0])\n",
    "print(oq.Wavefunction(qc))\n",
    "\n",
    "circuit_drawer(qc)"
   ]
  },
  {
   "cell_type": "code",
   "execution_count": 143,
   "metadata": {},
   "outputs": [
    {
     "name": "stdout",
     "output_type": "stream",
     "text": [
      "__ Initial __\n",
      "1.0  |0>   \n",
      "__ After Y __\n",
      "1.0j |1>   \n"
     ]
    },
    {
     "data": {
      "text/html": [
       "<pre style=\"word-wrap: normal;white-space: pre;background: #fff0;line-height: 1.1;font-family: &quot;Courier New&quot;,Courier,monospace\">        ┌────┐┌───┐\n",
       "q_0: |0>┤ Id ├┤ Y ├\n",
       "        └────┘└───┘</pre>"
      ],
      "text/plain": [
       "        ┌────┐┌───┐\n",
       "q_0: |0>┤ Id ├┤ Y ├\n",
       "        └────┘└───┘"
      ]
     },
     "execution_count": 143,
     "metadata": {},
     "output_type": "execute_result"
    }
   ],
   "source": [
    "# vis Y (Pauli Operator)\n",
    "q = QuantumRegister(1, name=\"q\")\n",
    "qc = QuantumCircuit(q, name=\"qc\")\n",
    "qc.iden(q[0])\n",
    "print(\"__ Initial __\")\n",
    "print(oq.Wavefunction(qc))\n",
    "print(\"__ After Y __\")\n",
    "qc.y(q[0])\n",
    "print(oq.Wavefunction(qc))\n",
    "\n",
    "circuit_drawer(qc)"
   ]
  },
  {
   "cell_type": "code",
   "execution_count": 144,
   "metadata": {},
   "outputs": [
    {
     "name": "stdout",
     "output_type": "stream",
     "text": [
      "__ Initial __\n",
      "1.0  |0>   \n",
      "__ After Z __\n",
      "1.0  |0>   \n"
     ]
    },
    {
     "data": {
      "text/html": [
       "<pre style=\"word-wrap: normal;white-space: pre;background: #fff0;line-height: 1.1;font-family: &quot;Courier New&quot;,Courier,monospace\">        ┌────┐┌───┐\n",
       "q_0: |0>┤ Id ├┤ Z ├\n",
       "        └────┘└───┘</pre>"
      ],
      "text/plain": [
       "        ┌────┐┌───┐\n",
       "q_0: |0>┤ Id ├┤ Z ├\n",
       "        └────┘└───┘"
      ]
     },
     "execution_count": 144,
     "metadata": {},
     "output_type": "execute_result"
    }
   ],
   "source": [
    "# vis Z (Pauli Operator)\n",
    "q = QuantumRegister(1, name=\"q\")\n",
    "qc = QuantumCircuit(q, name=\"qc\")\n",
    "qc.iden(q[0])\n",
    "print(\"__ Initial __\")\n",
    "print(oq.Wavefunction(qc))\n",
    "print(\"__ After Z __\")\n",
    "qc.z(q[0])\n",
    "print(oq.Wavefunction(qc))\n",
    "\n",
    "circuit_drawer(qc)"
   ]
  },
  {
   "cell_type": "markdown",
   "metadata": {},
   "source": [
    "### Phase Gates\n",
    "\n",
    "The following series of gates are all single qubit operations, which multiply a qubit’s|1〉state component by a phase.  Doingso does not change the probability of the system, but is an essential component for algorithms that rely on particular kinds ofinterference\n",
    "\n",
    "There's the following gates below: \n",
    "- u1 (φ)\n",
    "- s (φ=π/2)\n",
    "- t (φ=π/4)"
   ]
  },
  {
   "cell_type": "code",
   "execution_count": 226,
   "metadata": {
    "scrolled": true
   },
   "outputs": [
    {
     "name": "stdout",
     "output_type": "stream",
     "text": [
      "__ Initial __\n",
      "0.70711  |0>   0.70711  |1>   \n",
      "__ After r __\n",
      "0.70711  |0>   0.65328+0.2706j |1>   \n"
     ]
    },
    {
     "data": {
      "text/html": [
       "<pre style=\"word-wrap: normal;white-space: pre;background: #fff0;line-height: 1.1;font-family: &quot;Courier New&quot;,Courier,monospace\">        ┌───┐┌──────────┐\n",
       "q_0: |0>┤ H ├┤ U1(pi/8) ├\n",
       "        └───┘└──────────┘</pre>"
      ],
      "text/plain": [
       "        ┌───┐┌──────────┐\n",
       "q_0: |0>┤ H ├┤ U1(pi/8) ├\n",
       "        └───┘└──────────┘"
      ]
     },
     "execution_count": 226,
     "metadata": {},
     "output_type": "execute_result"
    }
   ],
   "source": [
    "# Phase (R_phi) aka 'u1' in qiskit\n",
    "q = QuantumRegister(1, name=\"q\")\n",
    "c = ClassicalRegister(1,name=\"c\")\n",
    "qc = QuantumCircuit(q, name=\"qc\")\n",
    "qc.h(q[0])\n",
    "print(\"__ Initial __\")\n",
    "print(oq.Wavefunction(qc))\n",
    "\n",
    "print(\"__ After r __\")\n",
    "qc.u1(m.pi/8, q[0])\n",
    "print(oq.Wavefunction(qc))\n",
    "circuit_drawer(qc)\n",
    "\n"
   ]
  },
  {
   "cell_type": "code",
   "execution_count": 209,
   "metadata": {},
   "outputs": [
    {
     "name": "stdout",
     "output_type": "stream",
     "text": [
      "[0.70710678+0.j  0.5       +0.5j]\n",
      "[5.00000000e-01+0.j  1.11022302e-16+0.5j]\n",
      "(0.5000000000000002+0.4999999999999999j)\n"
     ]
    }
   ],
   "source": [
    "job = execute(qc, S_simulator) \n",
    "result = job.result()\n",
    "\n",
    "\"\"\" \n",
    "Admittedly, this makes no sense to me. I thought that the probs \n",
    "    should add to 1. it looks like here that the imaginary num j is \n",
    "    preventing this. \n",
    "\"\"\"\n",
    "\n",
    "print(result.get_statevector() )\n",
    "print(result.get_statevector() **2)\n",
    "print((result.get_statevector() **2).sum())"
   ]
  },
  {
   "cell_type": "code",
   "execution_count": 207,
   "metadata": {},
   "outputs": [
    {
     "name": "stdout",
     "output_type": "stream",
     "text": [
      "[0.70710678+0.j  0.5       +0.5j]\n",
      "[0.5+0.j 0.5+0.j]\n",
      "1.0\n"
     ]
    }
   ],
   "source": [
    "\"\"\"\n",
    "I figured the above part out. I was squaring the complex num instead \n",
    "    of multiplying by its conjugate, a noob mistake :D\n",
    "Now the results sum to 1\n",
    "\"\"\"\n",
    "\n",
    "print(result.get_statevector() )\n",
    "print(result.get_statevector() * np.conj(result.get_statevector()))\n",
    "print((result.get_statevector() * np.conj(result.get_statevector()))\\\n",
    "      .sum() \\\n",
    "      .real)"
   ]
  },
  {
   "cell_type": "code",
   "execution_count": 211,
   "metadata": {},
   "outputs": [
    {
     "name": "stdout",
     "output_type": "stream",
     "text": [
      "__ Initial __\n",
      "0.70711  |0>   0.70711  |1>   \n",
      "__ After s __\n",
      "0.70711  |0>   0.70711j |1>   \n"
     ]
    },
    {
     "data": {
      "text/html": [
       "<pre style=\"word-wrap: normal;white-space: pre;background: #fff0;line-height: 1.1;font-family: &quot;Courier New&quot;,Courier,monospace\">        ┌───┐┌───┐\n",
       "q_0: |0>┤ H ├┤ S ├\n",
       "        └───┘└───┘</pre>"
      ],
      "text/plain": [
       "        ┌───┐┌───┐\n",
       "q_0: |0>┤ H ├┤ S ├\n",
       "        └───┘└───┘"
      ]
     },
     "execution_count": 211,
     "metadata": {},
     "output_type": "execute_result"
    }
   ],
   "source": [
    "# S\n",
    "q = QuantumRegister(1, name=\"q\")\n",
    "qc = QuantumCircuit(q, name=\"qc\")\n",
    "qc.h(q[0])\n",
    "print(\"__ Initial __\")\n",
    "print(oq.Wavefunction(qc))\n",
    "\n",
    "print(\"__ After s __\")\n",
    "qc.s(q[0])\n",
    "print(oq.Wavefunction(qc))\n",
    "\n",
    "circuit_drawer(qc)"
   ]
  },
  {
   "cell_type": "markdown",
   "metadata": {},
   "source": [
    "The S gate is the special chase where φ=π/2 <br>\n",
    "Interestingly, this results in the generic matrix: \n",
    "\n",
    "| 1  &nbsp; &nbsp; 0 &nbsp;|<br>\n",
    "| 0  &nbsp; e ^ (&nbsp;iφ&nbsp;)   &nbsp;| \n",
    "\n",
    "to be equivalent to \n",
    "\n",
    "| 1  &nbsp; &nbsp; 0 &nbsp;|<br>\n",
    "| 0  &nbsp; &nbsp; i   &nbsp;|"
   ]
  },
  {
   "cell_type": "code",
   "execution_count": 213,
   "metadata": {},
   "outputs": [
    {
     "name": "stdout",
     "output_type": "stream",
     "text": [
      "__ Initial __\n",
      "0.70711  |0>   0.70711  |1>   \n",
      "__ After T __\n",
      "0.70711  |0>   0.5+0.5j |1>   \n"
     ]
    },
    {
     "data": {
      "text/html": [
       "<pre style=\"word-wrap: normal;white-space: pre;background: #fff0;line-height: 1.1;font-family: &quot;Courier New&quot;,Courier,monospace\">        ┌───┐┌───┐\n",
       "q_0: |0>┤ H ├┤ T ├\n",
       "        └───┘└───┘</pre>"
      ],
      "text/plain": [
       "        ┌───┐┌───┐\n",
       "q_0: |0>┤ H ├┤ T ├\n",
       "        └───┘└───┘"
      ]
     },
     "execution_count": 213,
     "metadata": {},
     "output_type": "execute_result"
    }
   ],
   "source": [
    "# T gate, not transpose! \n",
    "q = QuantumRegister(1, name=\"q\")\n",
    "qc = QuantumCircuit(q, name=\"qc\")\n",
    "qc.h(q[0])\n",
    "print(\"__ Initial __\")\n",
    "print(oq.Wavefunction(qc))\n",
    "\n",
    "print(\"__ After T __\")\n",
    "qc.t(q[0])\n",
    "print(oq.Wavefunction(qc))\n",
    "\n",
    "circuit_drawer(qc)"
   ]
  },
  {
   "cell_type": "markdown",
   "metadata": {},
   "source": [
    "### Rotation Gates\n",
    "The follow gates all represent rotations of a state on a Bloch Sphere.  A Bloch sphere is a visual representation that maps thestate of a qubit to a location on the surface of a sphere, radius = 1. An image of a Bloch sphere and it’s axes is given below:\n",
    "![](https://www.datocms-assets.com/5203/1534934969-blochspphere.jpg?auto=compress&auto=quality&fm=webp&w=596)\n"
   ]
  },
  {
   "cell_type": "code",
   "execution_count": null,
   "metadata": {},
   "outputs": [],
   "source": []
  }
 ],
 "metadata": {
  "kernelspec": {
   "display_name": "Python 3",
   "language": "python",
   "name": "python3"
  },
  "language_info": {
   "codemirror_mode": {
    "name": "ipython",
    "version": 3
   },
   "file_extension": ".py",
   "mimetype": "text/x-python",
   "name": "python",
   "nbconvert_exporter": "python",
   "pygments_lexer": "ipython3",
   "version": "3.7.3"
  }
 },
 "nbformat": 4,
 "nbformat_minor": 2
}
